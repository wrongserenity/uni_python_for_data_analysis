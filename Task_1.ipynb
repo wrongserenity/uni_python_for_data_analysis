{
  "metadata": {
    "kernelspec": {
      "name": "python",
      "display_name": "Python (Pyodide)",
      "language": "python"
    },
    "language_info": {
      "codemirror_mode": {
        "name": "python",
        "version": 3
      },
      "file_extension": ".py",
      "mimetype": "text/x-python",
      "name": "python",
      "nbconvert_exporter": "python",
      "pygments_lexer": "ipython3",
      "version": "3.8"
    },
    "vscode": {
      "interpreter": {
        "hash": "916dbcbb3f70747c44a77c7bcd40155683ae19c65e1c03b4aa3499c5328201f1"
      }
    }
  },
  "nbformat_minor": 4,
  "nbformat": 4,
  "cells": [
    {
      "cell_type": "code",
      "source": "import sys\nsys.version",
      "metadata": {
        "trusted": true
      },
      "execution_count": 3,
      "outputs": [
        {
          "execution_count": 3,
          "output_type": "execute_result",
          "data": {
            "text/plain": "'3.10.2 (main, Sep 15 2022, 23:28:12) [Clang 15.0.0 (https://github.com/llvm/llvm-project 7effcbda49ba32991b8955821b8f'"
          },
          "metadata": {}
        }
      ]
    },
    {
      "cell_type": "markdown",
      "source": "# Задание 1\n\n(**NB.** для запуска примеров кода нужен Python версии не ниже **3.10**, допускается использование других версий, в этом случае нужно самостоятельно избавиться от конструкции `match`).\n\nЕсть следующий код для [автоматического дифференцирования](https://en.wikipedia.org/wiki/Automatic_differentiation), в котором используются особенности системы типов языка `Python`: ",
      "metadata": {}
    },
    {
      "cell_type": "code",
      "source": "from dataclasses import dataclass\nfrom typing import Union, Callable\nfrom numbers import Number\n\n@dataclass\nclass Dual:\n    value: float\n    d: float\n\n    def __add__(self, other: Union[\"Dual\", Number]) -> \"Dual\":\n         match other:\n            case Dual(o_value, o_d):\n                return Dual(self.value + o_value, self.d + o_d)\n            case Number():\n                return Dual(float(other) + self.value, self.d)\n\n    def __mul__(self, other: Union[\"Dual\", Number]) -> \"Dual\":\n         match other:\n            case Dual(o_value, o_d):\n                return Dual(self.value * o_value, self.value * o_d + self.d * o_value)\n            case Number():\n                return Dual(float(other) * self.value, float(other) * self.d)    \n\n    __rmul__ = __mul__  # https://docs.python.org/3/reference/datamodel.html#object.__mul__\n    __radd__ = __add__  # https://docs.python.org/3/reference/datamodel.html#object.__radd__\n \n\ndef diff(func: Callable[[float], float]) -> Callable[[float], float]:\n    return lambda x: func(Dual(x, 1.0)).d ",
      "metadata": {
        "trusted": true
      },
      "execution_count": 4,
      "outputs": []
    },
    {
      "cell_type": "markdown",
      "source": "Поддерживаются две операции - сложение и умножение. Применить можно так:",
      "metadata": {}
    },
    {
      "cell_type": "code",
      "source": "# Функция, которую будем дифференцировать\ndef f(x: float) -> float:\n    return 5 * x * x + 2 * x + 2\n\nf_diff = diff(f)\n\n# значение производной в точке x = 2\nf_diff(2)\n\n",
      "metadata": {
        "trusted": true
      },
      "execution_count": 5,
      "outputs": [
        {
          "execution_count": 5,
          "output_type": "execute_result",
          "data": {
            "text/plain": "22.0"
          },
          "metadata": {}
        }
      ]
    },
    {
      "cell_type": "markdown",
      "source": "## Задание 1.1 (5 баллов)\n\nКакие недостатки вы видите в данной реализации? Реализуйте поддержку (полностью самостоятельно или модифицируя приведенный код):\n- [унарных операций](https://docs.python.org/3/reference/datamodel.html#object.__neg__) \n- деления\n- возведения в степень\n\nКаким образом можно проверить корректность решения?  Реализуйте достаточный, по вашему мнению, набор тестов.",
      "metadata": {}
    },
    {
      "cell_type": "code",
      "source": "from dataclasses import dataclass\nfrom typing import Union, Callable, Tuple\nfrom numbers import Number\nfrom numpy import sign, isclose\n\n@dataclass\nclass Dual:\n    value: float\n    d: float\n\n    def __add__(self, other: Union[\"Dual\", Number]) -> \"Dual\":\n         match other:\n            case Dual(o_value, o_d):\n                return Dual(self.value + o_value, self.d + o_d)\n            case Number():\n                return Dual(float(other) + self.value, self.d)\n\n    def __mul__(self, other: Union[\"Dual\", Number]) -> \"Dual\":\n         match other:\n            case Dual(o_value, o_d):\n                return Dual(self.value * o_value, self.value * o_d + self.d * o_value)\n            case Number():\n                return Dual(float(other) * self.value, float(other) * self.d)    \n\n    __rmul__ = __mul__  # https://docs.python.org/3/reference/datamodel.html#object.__mul__\n    __radd__ = __add__  # https://docs.python.org/3/reference/datamodel.html#object.__radd__\n    \n    def __sub__(self, other: Union[\"Dual\", Number]) -> \"Dual\":\n        match other:\n            case Dual(o_value, o_d):\n                return Dual(self.value - o_value, self.d - o_d)\n            case Number():\n                return Dual(self.value - float(other), self.d)\n            \n    def __rsub__(self, other: Union[\"Dual\", Number]) -> \"Dual\":\n        match other:\n            case Dual(o_value, o_d):\n                return Dual(o_value - self.value, o_d - self.d)\n            case Number():\n                return Dual(float(other) - self.value, self.d)\n    \n    def __neg__(self) -> \"Dual\":\n        return Dual(-self.value, -self.d)\n    \n    def __pos__(self) -> \"Dual\":\n        return Dual(self.value, self.d)\n    \n    def __abs__(self) -> \"Dual\":\n        if self.value == 0:\n            raise ValueError('value should be non-zero')\n        \n        return Dual(abs(self.value), self.d * sign(self.value))\n    \n    def __invert__(self) -> \"Dual\":\n        return Dual(~self.value, ~self.d)\n    \n    def __truediv__(self, other: Union[\"Dual\", Number]) -> \"Dual\":\n        return Dual._divide(self, other)\n    \n    def __rtruediv__(self, other: Union[\"Dual\", Number]) -> \"Dual\":\n        return Dual._divide(other, self)\n    \n    def __pow__(self, other: Number) -> \"Dual\":\n        if self.value == 0:\n            raise ValueError('value should be non-zero')\n            \n        return Dual(self.value**other, self.d * other * self.value**(other - 1)) \n    \n    def is_close_to(self, other: 'Dual') -> bool:\n        if not isinstance(other, Dual):\n            return false\n        \n        return isclose(self.d, other.d) and isclose(self.value, other.value)\n    \n    @staticmethod\n    def _divide(numerator: Union[\"Dual\", Number], denominator: Union[\"Dual\", Number]) -> \"Dual\":\n        n_val, n_d = Dual.parse(numerator)\n        d_val, d_d = Dual.parse(denominator)\n        \n        if d_val == 0:\n            raise ZeroDivisionError('value of denominator should be non-zero')\n        \n        val_temp = n_val / d_val\n        d_temp = (n_d * d_val - n_val * d_d) / (d_val * d_val)\n        return Dual(val_temp, d_temp)\n    \n    @staticmethod    \n    def parse(obj: Union[\"Dual\", Number]) -> Tuple:\n        return (obj.value, obj.d) if isinstance(obj, Dual) else (float(obj), .0)\n        ",
      "metadata": {
        "trusted": true
      },
      "execution_count": 92,
      "outputs": []
    },
    {
      "cell_type": "code",
      "source": "from random import randint, random\nimport functools\n\nclass TestDual:\n    PAIRS_GEN_OFFSET = -0.5\n    PAIRS_GEN_SCALE  = 4.0\n    TEST_REPETITION  = 10\n    SPECIFIC_PAIRS   = [(1.0, 0.0), \n                        (0.0, 1.0), \n                        (0.0, 0.0)]\n    \n    @staticmethod\n    def test_all():\n        print(\"TestDual / test_all()\")\n        TestDual.test_value_errors()\n        \n        TestDual.sum_and_neg()\n        TestDual.mul_and_div()\n        TestDual.pow_and_mul()\n    \n    @staticmethod\n    def test_value_errors():\n        assert TestDual.abs_value_error() \n        assert TestDual.div_value_error()\n        assert TestDual.pow_value_error() \n    \n    @staticmethod\n    def abs_value_error() -> bool:\n        try:\n            abs(Dual(0.0, 1.0))\n            return False\n        except ValueError:\n            return True\n        \n    @staticmethod\n    def div_value_error() -> bool:\n        try:\n            Dual(1.0, 1.0) / Dual(0.0, 1.0)\n            return False\n        except ZeroDivisionError:\n            return True\n        \n    @staticmethod\n    def pow_value_error() -> bool:\n        try:\n            Dual(0.0, 1.0)**1\n            return False\n        except ValueError:\n            return True\n    \n    @staticmethod\n    def sum_and_neg():\n        for first, second in TestDual.get_pairs(TestDual.TEST_REPETITION):\n                sum_val = Dual(first, second) + (-Dual(second, first))\n                expect_val = Dual(first - second, second - first)\n                assert sum_val.is_close_to(expect_val), f'not equal with {Dual(first, second)} and {-Dual(second, first)};\\nsum: {sum_val}, exp: {expect_val}'\n    \n    @staticmethod\n    def mul_and_div():\n        for first, second in TestDual.get_pairs(TestDual.TEST_REPETITION):\n            if first == 0 or second == 0:\n                continue\n\n            mul_val = Dual(first, second) * Dual(second, first)\n            div_val = Dual(first, second) / (Dual(1, 0) / Dual(second, first))\n            assert mul_val.is_close_to(div_val), f'not equal with {Dual(first, second)} and {Dual(second, first)};\\nmul: {mul_val}, div: {div_val}'\n    \n    @staticmethod\n    def pow_and_mul():\n        for first, second in TestDual.get_pairs(TestDual.TEST_REPETITION):\n            power = randint(1, 6)\n                \n            if first == 0:\n                continue\n            pow_val = Dual(first, second) ** power\n            mul_val = functools.reduce(lambda a, b : a * b, [Dual(first, second)] * power)\n\n            assert pow_val.is_close_to(mul_val), f'not equal with {Dual(first, second)} and power: {power};\\npow: {pow_val}, mul: {mul_val}'\n                \n    @staticmethod  \n    def get_pairs(common_pairs_number : int) -> Tuple:\n        return tuple([((random() + TestDual.PAIRS_GEN_OFFSET) * TestDual.PAIRS_GEN_SCALE, \n                           (random() + TestDual.PAIRS_GEN_OFFSET) * TestDual.PAIRS_GEN_SCALE) \n                      for _ in range(common_pairs_number)] + TestDual.SPECIFIC_PAIRS)\n        ",
      "metadata": {
        "trusted": true
      },
      "execution_count": 63,
      "outputs": []
    },
    {
      "cell_type": "code",
      "source": "TestDual.test_all()",
      "metadata": {
        "trusted": true
      },
      "execution_count": 64,
      "outputs": [
        {
          "name": "stdout",
          "text": "TestDual / test_all()\n",
          "output_type": "stream"
        }
      ]
    },
    {
      "cell_type": "markdown",
      "source": "## Задание 1.2 (7 баллов)\nПридумайте способ и реализуйте поддержку функций:\n- `exp()`\n- `cos()`\n- `sin()`\n- `log()`\n\nДобавьте соответствующие тесты",
      "metadata": {}
    },
    {
      "cell_type": "code",
      "source": "import math\n\ndef exp(input_value : Union[\"Dual\", Number]):\n    match input_value:\n        case Dual(value, d):\n            return Dual(math.exp(value), d * math.exp(value))\n        case Number():\n            return math.exp(input_value)\n\ndef cos(input_value : Union[\"Dual\", Number]):\n    match input_value:\n        case Dual(value, d):\n            return Dual(math.cos(value), -d * math.sin(value))\n        case Number():\n            return math.cos(input_value)\n\ndef sin(input_value : Union[\"Dual\", Number]):\n    match input_value:\n        case Dual(value, d):\n            return Dual(math.sin(value), d * math.cos(value))\n        case Number():\n            return math.sin(input_value)\n        \ndef log(input_value : Union[\"Dual\", Number]):\n    match input_value:\n        case Dual(value, d):\n            if value <= 0:\n                raise ValueError('value should be positive')\n            return Dual(math.log(value), d / value)\n        case Number():\n            if input_value <= 0:\n                raise ValueError('value should be positive')\n            return math.log(input_value)\n    \n    \nclass TestDualExtended(TestDual):\n    @staticmethod \n    def test_all():\n        TestDual.test_all()\n        \n        TestDualExtended.sin_and_cos()\n        TestDualExtended.log_and_exp()\n        \n    @staticmethod \n    def sin_and_cos():\n        one = Dual(1.0, 0.0)\n        for first, second in TestDual.get_pairs(TestDual.TEST_REPETITION):\n            if first == 0:\n                continue\n            \n            dual = Dual(first, second)\n            assert (cos(dual)**2 + sin(dual)**2).is_close_to(one), f'not equal 1 with {dual}; cos^2: {cos(dual)**2}, sin^2: {sin(dual)**2}'\n            \n    @staticmethod       \n    def log_and_exp():\n        for first, second in TestDual.get_pairs(TestDual.TEST_REPETITION):\n            dual = Dual(first, second)\n            assert log(exp(dual)).is_close_to(dual), f'not equal with self: {dual}; log(exp(dual))={log(exp(dual))}'\n            ",
      "metadata": {
        "trusted": true
      },
      "execution_count": 96,
      "outputs": []
    },
    {
      "cell_type": "code",
      "source": "TestDualExtended.test_all()",
      "metadata": {
        "trusted": true
      },
      "execution_count": 66,
      "outputs": [
        {
          "name": "stdout",
          "text": "TestDual / test_all()\n",
          "output_type": "stream"
        }
      ]
    },
    {
      "cell_type": "markdown",
      "source": "## Задание 1.3 (3 балла)\nВоспользуйтесь методами **численного** дифференцирования для \"проверки\" работы кода на нескольких примерах. Например,  библиотеке `scipy` есть функция `derivative`. Или реализуйте какой-нибудь метод численного дифференцирования самостоятельно (**+5 баллов**)",
      "metadata": {}
    },
    {
      "cell_type": "code",
      "source": "from scipy.misc import derivative\n\ndef f(x: float) -> float:\n    return 5 * x * x + 2 * x + 2\n\nderivative(f, 2.)",
      "metadata": {},
      "execution_count": 5,
      "outputs": [
        {
          "execution_count": 5,
          "output_type": "execute_result",
          "data": {
            "text/plain": [
              "22.0"
            ]
          },
          "metadata": {}
        }
      ]
    },
    {
      "cell_type": "code",
      "source": "from scipy.misc import derivative\nimport numpy as np\nimport numpy.typing as npt\nfrom typing import Union, Callable\n\ndef diff(func: Callable[[float], float]) -> Callable[[float], float]:\n    return lambda x: func(Dual(x, 1.0)).d \n\nclass CompareDualDerivativeWithNumerical:\n    \n    @staticmethod \n    def test_by_points(f : Callable[[float], float]):\n        print('CompareDualDerivativeWithNumerical / test_by_points(f)')\n        dual_derivative = diff(f)\n        \n        not_equality_interval = [None, None]\n        d = []\n        for value in CompareDualDerivativeWithNumerical.GetPoints(f, True):\n            if np.isclose(dual_derivative(value), derivative(f, value, dx=1e-6)):\n                continue\n            \n            if not not_equality_interval[0]:\n                not_equality_interval[0] = value\n            else:\n                not_equality_interval[1] = value\n            d.append(abs(dual_derivative(value) - derivative(f, value, dx=1e-6)))\n        \n        if not_equality_interval[0]:\n            print(f'is not equal from {not_equality_interval[0]} to {not_equality_interval[1]}, avg dif={sum(d) / len(d)}')\n    \n    @staticmethod\n    def GetPoints(f : Callable[[float], float] = None, isLog=False) -> np.ndarray:\n        values = np.linspace(-2, 2, 100)\n        temp_values = []\n        if f:\n            for i in range(len(values)):\n                try:\n                    f(values[i])\n                    temp_values.append(values[i])\n                except:\n                    continue\n            values = np.array(temp_values)\n        \n        if isLog:\n            from_to = f'from {round(values[0], 2)} to {round(values[-1], 2)}' if len(values) > 1 else '' \n            print(f'values number: {len(values)} {from_to}')\n        return values\n        \n            \n    ",
      "metadata": {
        "trusted": true
      },
      "execution_count": 123,
      "outputs": []
    },
    {
      "cell_type": "code",
      "source": "def f_first(x: float) -> float:\n    return 5 * x * x + 2 * x + 2\n\ndef f_second(x: float) -> float:\n    return cos(x) + log(x) * 2\n\nCompareDualDerivativeWithNumerical.test_by_points(f_first)\nCompareDualDerivativeWithNumerical.test_by_points(f_second)",
      "metadata": {
        "trusted": true
      },
      "execution_count": 101,
      "outputs": [
        {
          "name": "stdout",
          "text": "CompareDualDerivativeWithNumerical / test_by_points(f)\nvalues number: 100\nCompareDualDerivativeWithNumerical / test_by_points(f)\nvalues number: 50\n",
          "output_type": "stream"
        }
      ]
    },
    {
      "cell_type": "markdown",
      "source": "## Задание 1.4 (10 баллов)\n\nНеобходимо разработать систему автоматического тестирования алгоритма дифференцирования в следующем виде:\n- реализовать механизм генерации \"случайных функций\" (например, что-то вроде такого: $f(x) = x + 5 * x - \\cos(20 * \\log(12 - 20 * x * x )) - 20 * x$ )\n- сгенерировать достаточно большое число функций и сравнить результаты символьного и численного дифференцирования в случайных точках ",
      "metadata": {}
    },
    {
      "cell_type": "markdown",
      "source": "Генерацию случайных функций можно осуществить, например, двумя путями. \n1. Генерировать функцию в текстовом виде, зачем использовать встроенную функцию [eval](https://docs.python.org/3/library/functions.html#eval)\n\n```python\nfunc = eval(\"lambda x: 2 * x + 5\")\nassert func(42) == 89 \n```\n\n2. Использовать стандартный модуль [ast](https://docs.python.org/3/library/ast.html), который позволяет во время выполнения программы манипулировать [Абстрактным Синтаксическим Деревом](https://ru.wikipedia.org/wiki/%D0%90%D0%B1%D1%81%D1%82%D1%80%D0%B0%D0%BA%D1%82%D0%BD%D0%BE%D0%B5_%D1%81%D0%B8%D0%BD%D1%82%D0%B0%D0%BA%D1%81%D0%B8%D1%87%D0%B5%D1%81%D0%BA%D0%BE%D0%B5_%D0%B4%D0%B5%D1%80%D0%B5%D0%B2%D0%BE).\nНапример, выражение \n\n```python\nfunc = lambda x: 2 * x + 5\n```\n\nМожно запрограммировать с помощью кода:\n\n```python\n\nexpr = ast.Expression(\n    body=ast.Lambda(\n        args=ast.arguments(\n            args=[\n                ast.arg(arg='x')\n            ],\n            posonlyargs=[],\n            kwonlyargs=[],\n            kw_defaults=[],\n            defaults=[]\n        ),\n        body=ast.BinOp(\n            left=ast.BinOp(\n                left=ast.Constant(value=2),\n                op=ast.Mult(),\n                right=ast.Name(id='x', ctx=ast.Load())\n            ),\n            op=ast.Add(),\n            right=ast.Constant(value=5)\n        )\n    )\n)\n\nast.fix_missing_locations(expr)\n\nfunc = eval(compile(expr, filename=\"\", mode=\"eval\"))\n\nassert func(42) == 89\n```\n\nПри реализации нужно учитывать области допустимых значений функций.",
      "metadata": {}
    },
    {
      "cell_type": "code",
      "source": "import random \n\noperations = [' + ',' - ',' * ',' / ']\nbrackets_operations = ['(', 'cos(','sin(','log(','exp(']\n\ngen = ''\ninit_depth = 0\nMAX_DEPTH = 4\nAFTER_CLOSING_BRACKETS_EXPRESION_CHANCE = 0.2\n\ndef generate_func(depth : int = 0, no_brackets : bool = False):\n    generated = ''\n    \n    depth += 1\n    need_closing = False\n    \n    if random.getrandbits(1) or no_brackets:\n        generated += get_value()\n        generated += random.choice(operations)\n    else:\n        generated += random.choice(brackets_operations)\n        need_closing = True\n        \n    if depth <= MAX_DEPTH:\n        generated += generate_func(depth, need_closing)\n    else:\n        generated += get_value()\n\n    if need_closing:\n        generated += ')'\n    \n    if random.random() < AFTER_CLOSING_BRACKETS_EXPRESION_CHANCE:\n        generated += random.choice(operations)\n        generated += generate_func(depth)\n\n    return generated\n\ndef get_value() -> str:\n    if random.getrandbits(1):\n        return 'x'\n    else:\n        return str(random.randint(1, 99))",
      "metadata": {
        "trusted": true
      },
      "execution_count": 114,
      "outputs": []
    },
    {
      "cell_type": "code",
      "source": "for i in range(20):\n    gen_func = generate_func()\n    print('\\n' + gen_func)\n    CompareDualDerivativeWithNumerical.test_by_points(eval(\"lambda x: \" + gen_func))",
      "metadata": {
        "trusted": true
      },
      "execution_count": 124,
      "outputs": [
        {
          "name": "stdout",
          "text": "\n42 + 87 - sin(47 * x - x) / exp(95 - 25)\nCompareDualDerivativeWithNumerical / test_by_points(f)\nvalues number: 100 from -2.0 to 2.0\n\nx * 10 - 51 + x * (68)\nCompareDualDerivativeWithNumerical / test_by_points(f)\nvalues number: 100 from -2.0 to 2.0\n\nx / 30 / 99 * 62 - exp(x)\nCompareDualDerivativeWithNumerical / test_by_points(f)\nvalues number: 100 from -2.0 to 2.0\n\nx - cos(78 + x + 49 + 12) + exp(10 * sin(94 * 7))\nCompareDualDerivativeWithNumerical / test_by_points(f)\nvalues number: 100 from -2.0 to 2.0\n\n80 - sin(10 - x - 50 / 85 * log(78 - x / x - 18)) * cos(96 - 2 + x)\nCompareDualDerivativeWithNumerical / test_by_points(f)\nvalues number: 100 from -2.0 to 2.0\nis not equal from -2.0 to 2.0, avg dif=0.6761947765831828\n\nlog(x / cos(54 + (99)) * exp(x / 26) + log(43))\nCompareDualDerivativeWithNumerical / test_by_points(f)\nvalues number: 100 from -2.0 to 2.0\n\n48 - x + cos(x / cos(26))\nCompareDualDerivativeWithNumerical / test_by_points(f)\nvalues number: 100 from -2.0 to 2.0\nis not equal from -2.0 to 2.0, avg dif=1.9999999999976694\n\n31 - x - x * (5 / 30 / 78 / x)\nCompareDualDerivativeWithNumerical / test_by_points(f)\nvalues number: 100 from -2.0 to 2.0\nis not equal from -2.0 to 2.0, avg dif=1.9999999999266151\n\n(x + exp(x / sin(13)) * log(23 / cos(x) / cos(4)) / (41 * 31))\nCompareDualDerivativeWithNumerical / test_by_points(f)\nvalues number: 22 from -2.0 to 2.0\n\n51 / x / x * sin(13 + x) / 49 - 56 * x + sin(x) / exp(x - log(x))\nCompareDualDerivativeWithNumerical / test_by_points(f)\nvalues number: 50 from 0.02 to 2.0\n\nx + sin(82 + exp(x / x))\nCompareDualDerivativeWithNumerical / test_by_points(f)\nvalues number: 100 from -2.0 to 2.0\n\n(x * log(x / x * 36) * 64 / cos(x - x) - cos(x) + exp(49))\nCompareDualDerivativeWithNumerical / test_by_points(f)\nvalues number: 100 from -2.0 to 2.0\nis not equal from -2.0 to 2.0, avg dif=229.345212061191\n\n64 * x / x + 23 * x + 96\nCompareDualDerivativeWithNumerical / test_by_points(f)\nvalues number: 100 from -2.0 to 2.0\n\nlog(x * 56 - exp(15 + 5 - 38 + 64 * x * 94) * exp(33) - exp(60) / 9 - 79 / x)\nCompareDualDerivativeWithNumerical / test_by_points(f)\nvalues number: 0 \n\nx + 95 - 56 - x - sin(x)\nCompareDualDerivativeWithNumerical / test_by_points(f)\nvalues number: 100 from -2.0 to 2.0\n\nx * (79 - cos(48 - x))\nCompareDualDerivativeWithNumerical / test_by_points(f)\nvalues number: 100 from -2.0 to 2.0\n\nsin(46 + 40 - x + sin(48)) - log(45 - x - exp(96) * x * x + sin(4))\nCompareDualDerivativeWithNumerical / test_by_points(f)\nvalues number: 0 \n\nlog(x / 27 + cos(x * x + log(64)))\nCompareDualDerivativeWithNumerical / test_by_points(f)\nvalues number: 58 from -1.88 to 1.92\n\nx / 83 - x / exp(47 + x)\nCompareDualDerivativeWithNumerical / test_by_points(f)\nvalues number: 100 from -2.0 to 2.0\n\nlog(x + log(x / log(83) + cos(22))) / 27 / 7 / (x * x) * exp(x - cos(x)) - x + log(x)\nCompareDualDerivativeWithNumerical / test_by_points(f)\nvalues number: 0 \n",
          "output_type": "stream"
        }
      ]
    },
    {
      "cell_type": "markdown",
      "source": "## Задание 1.5 (7 баллов)\n\nРеализуйте поддержку функций нескольких аргументов. Например\n\n```python\ndef f(x: float, y: float, z: float) -> float:\n    return x * y + z - 5 * y  \n\n\nf_diff = diff(f)\n\nf_diff(10, 10, 10) # = [10, 5, 1]\n```",
      "metadata": {}
    },
    {
      "cell_type": "code",
      "source": "import inspect \n\ndef diff(func: Callable[[float], float]) -> Callable[[float], float]:\n    return lambda x: func(Dual(x, 1.0)).d \n\ndef diff_multy(func):\n    arg_names = list(inspect.signature(func).parameters.keys())\n    \n    def diff_func(**args):\n        values = []\n        \n        for arg in arg_names:\n            temp_args = args.copy()\n            temp_args[arg] = Dual(args[arg], 1.0)\n            value = func(**temp_args)\n            values.append(value.d)\n\n        return values\n    \n    return diff_func",
      "metadata": {
        "trusted": true
      },
      "execution_count": 300,
      "outputs": []
    },
    {
      "cell_type": "code",
      "source": "def f(x: float, y: float, z: float) -> float:\n    return x * y + z - 5 * y  \n\nf_diff = diff_multy(f)\n\nprint(f_diff(x=10, y=10, z=10))",
      "metadata": {
        "trusted": true
      },
      "execution_count": 303,
      "outputs": [
        {
          "name": "stdout",
          "text": "[10.0, 5.0, 1.0]\n",
          "output_type": "stream"
        }
      ]
    },
    {
      "cell_type": "code",
      "source": "",
      "metadata": {},
      "execution_count": null,
      "outputs": []
    }
  ]
}