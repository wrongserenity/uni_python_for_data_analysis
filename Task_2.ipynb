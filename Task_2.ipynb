{
  "cells": [
    {
      "cell_type": "markdown",
      "metadata": {
        "id": "rtTAfJvP7lnM"
      },
      "source": [
        "# Задание 2.\n",
        "\n",
        "**NB. Все упражнения ниже нужно делать без использования циклов Python в явном (`while`, `for`) и неявном виде (list comprehension, `map`, `reduce` и пр)**\n",
        "\n",
        "Задания по манипуляциям с массивами чаще всего решаются в одно/два выражения. "
      ]
    },
    {
      "cell_type": "code",
      "execution_count": null,
      "metadata": {
        "colab": {
          "base_uri": "https://localhost:8080/"
        },
        "id": "5rl4Kw4g7lnP",
        "outputId": "eeeea532-8461-435c-9b6a-617b61dca042"
      },
      "outputs": [
        {
          "output_type": "execute_result",
          "data": {
            "text/plain": [
              "array([[15, 97, 59, ...,  1, 74,  2],\n",
              "       [19, 28, 80, ..., 87, 53, 42],\n",
              "       [14, 35, 83, ..., 75,  2, 56],\n",
              "       ...,\n",
              "       [68, 84, 99, ..., 11, 26, 55],\n",
              "       [27, 13, 86, ..., 31, 80, 37],\n",
              "       [74, 22,  8, ..., 65, 25, 52]])"
            ]
          },
          "metadata": {},
          "execution_count": 28
        }
      ],
      "source": [
        "%matplotlib inline\n",
        "\n",
        "import numpy as np\n",
        "import matplotlib.pyplot as plt\n",
        "import seaborn as sns\n",
        "sns.set_theme()\n",
        "\n",
        "A = np.random.randint(0, 100, size=(200, 50))\n",
        "A"
      ]
    },
    {
      "cell_type": "markdown",
      "metadata": {
        "id": "2vjl2gki7lnR"
      },
      "source": [
        "# Задание 2.1 (2 балла)\n",
        "\n",
        "Сгенерируйте новый массив, в котором столбцы массива `A` переставлены в случайном порядке"
      ]
    },
    {
      "cell_type": "code",
      "execution_count": null,
      "metadata": {
        "colab": {
          "base_uri": "https://localhost:8080/"
        },
        "id": "HsvuoWwA7lnR",
        "outputId": "a0173ebc-278f-4165-ad9f-164b552575ce"
      },
      "outputs": [
        {
          "output_type": "stream",
          "name": "stdout",
          "text": [
            "[[24 71 53 ... 94 31 94]\n",
            " [93 65 97 ... 34 12  7]\n",
            " [90 57 92 ... 52 83 20]\n",
            " ...\n",
            " [ 3 39 25 ... 30 23 29]\n",
            " [54 37  5 ... 76 43 86]\n",
            " [35 74 39 ... 47 93 13]]\n",
            "0\n"
          ]
        }
      ],
      "source": [
        "B = np.copy(A)\n",
        "np.random.shuffle(B)\n",
        "print(B)\n",
        "\n",
        "print(np.sum(A - B))"
      ]
    },
    {
      "cell_type": "markdown",
      "metadata": {
        "id": "geOID-HA7lnS"
      },
      "source": [
        "# Задание 2.2 (5 баллов)\n",
        "\n",
        "Сгенерируйте новый массив, который содержит только те строки массива `A`, в которых: \n",
        "- сумма элементов по четным столбцам (индексы $0, 2, \\ldots$) больше среднего значения (по всему массиву) суммы элементов по нечетным столбцам (индексы $1, 3, \\ldots$) "
      ]
    },
    {
      "cell_type": "code",
      "execution_count": null,
      "metadata": {
        "colab": {
          "base_uri": "https://localhost:8080/"
        },
        "id": "b4YIFXYt7lnS",
        "outputId": "7e450255-2188-4135-897d-6ad91dee3004"
      },
      "outputs": [
        {
          "output_type": "stream",
          "name": "stdout",
          "text": [
            "[[15 97 59 ...  1 74  2]\n",
            " [63  3 50 ... 84 45 67]\n",
            " [33 77 46 ... 88 21 64]\n",
            " ...\n",
            " [ 8 36 14 ... 46 43 80]\n",
            " [68 84 99 ... 11 26 55]\n",
            " [27 13 86 ... 31 80 37]]\n"
          ]
        }
      ],
      "source": [
        "C = A[np.sum(A[::, ::2], axis=1) > np.mean(np.sum(A[:, 1::2], axis=1))]\n",
        "print(C)"
      ]
    },
    {
      "cell_type": "markdown",
      "metadata": {
        "id": "u_nqGVVH7lnS"
      },
      "source": [
        "# Задача 2.3 (3 балла)\n",
        "\n",
        "Найдите индекс строки массива `A`, в которой разница между максимальным и минимальным элементом максимальна"
      ]
    },
    {
      "cell_type": "code",
      "execution_count": null,
      "metadata": {
        "colab": {
          "base_uri": "https://localhost:8080/"
        },
        "id": "5EALRsol7lnS",
        "outputId": "8c76e2ba-05a8-4a59-955d-c4546b014fb4"
      },
      "outputs": [
        {
          "output_type": "stream",
          "name": "stdout",
          "text": [
            "10\n"
          ]
        }
      ],
      "source": [
        "print((np.max(A, axis=1) - np.min(A, axis=1)).argmax())"
      ]
    },
    {
      "cell_type": "markdown",
      "metadata": {
        "id": "EyIJ-BUX7lnS"
      },
      "source": [
        "# Задание 2.4 (7 баллов)\n",
        "\n",
        "Сгенерируйте массив той же размерности, что и `A`, но в котором каждый элемент заменен на его порядковый номер (начиная с 1) в отсортированном по возрастанию массиве из элементов `A`\n",
        "\n",
        "Если `A` выглядит так:\n",
        "$$\n",
        "\\begin{pmatrix}\n",
        "12 & 14\\\\\n",
        "1 & 2\n",
        "\\end{pmatrix}\n",
        "$$\n",
        "то результат должен быть\n",
        "$$\n",
        "\\begin{pmatrix}\n",
        "3 & 4\\\\\n",
        "1 & 2\n",
        "\\end{pmatrix}\n",
        "$$\n",
        "\n",
        "*Tip: рассмотрите возможность неоднократного применения [argsort()](https://numpy.org/doc/stable/reference/generated/numpy.ndarray.argsort.html)*"
      ]
    },
    {
      "cell_type": "code",
      "execution_count": null,
      "metadata": {
        "id": "2rYit4027lnT",
        "colab": {
          "base_uri": "https://localhost:8080/"
        },
        "outputId": "28e6286c-9a9f-48de-8fec-532db72aeb10"
      },
      "outputs": [
        {
          "output_type": "stream",
          "name": "stdout",
          "text": [
            "[[1588 9812 5821 ...  199 7367  222]\n",
            " [1951 2801 7995 ... 8721 5234 4244]\n",
            " [1472 3541 8291 ... 7500  239 5555]\n",
            " ...\n",
            " [6671 8382 9969 ... 1193 2653 5443]\n",
            " [2710 1352 8616 ... 3122 8008 3736]\n",
            " [7395 2211  902 ... 6334 2511 5182]]\n"
          ]
        }
      ],
      "source": [
        "B = A.flatten()\n",
        "B[A.argsort(axis=None)] = np.linspace(1, A.size, num=A.size)\n",
        "print(B.reshape(A.shape))"
      ]
    },
    {
      "cell_type": "markdown",
      "metadata": {
        "id": "nAeQ86gk7lnT"
      },
      "source": [
        "# Задание 2.5 (2 балла)\n",
        "\n",
        "Примените $\\min-\\max$ - нормализацию к строкам массива `A`. То есть нужно получить новый массивы, в каждой строке которого максимальный элементы равен $1$, минимальный - $0$. "
      ]
    },
    {
      "cell_type": "code",
      "execution_count": null,
      "metadata": {
        "id": "lM4vP2LX7lnT",
        "colab": {
          "base_uri": "https://localhost:8080/"
        },
        "outputId": "983a0a4a-7941-439e-94fa-146ebb4fa942"
      },
      "outputs": [
        {
          "output_type": "stream",
          "name": "stdout",
          "text": [
            "[[0.14285714 0.97959184 0.59183673 ... 0.         0.74489796 0.01020408]\n",
            " [0.17708333 0.27083333 0.8125     ... 0.88541667 0.53125    0.41666667]\n",
            " [0.1443299  0.36082474 0.8556701  ... 0.77319588 0.02061856 0.57731959]\n",
            " ...\n",
            " [0.67368421 0.84210526 1.         ... 0.07368421 0.23157895 0.53684211]\n",
            " [0.24210526 0.09473684 0.86315789 ... 0.28421053 0.8        0.34736842]\n",
            " [0.73958333 0.19791667 0.05208333 ... 0.64583333 0.22916667 0.51041667]]\n"
          ]
        }
      ],
      "source": [
        "B = np.divide(A - np.tile(\n",
        "                        np.min(A, axis=1)[:, np.newaxis], \n",
        "                        (1, A.shape[1])), \n",
        "              np.tile(\n",
        "                  (np.max(A, axis=1) - np.min(A, axis=1))[:, np.newaxis],\n",
        "                  (1, A.shape[1])))\n",
        "print(B)"
      ]
    },
    {
      "cell_type": "markdown",
      "metadata": {
        "id": "OHouOvRD7lnU"
      },
      "source": [
        "# Задание 2.6 (2 балла)\n",
        "\n",
        "Сгенерируйте новый трехмерный массив, размерности $10 \\times 200 \\times 50$. Подмассивы по нулевой оси должны состоять из элементов `A`, умноженных на $1 - 10$ соответственно"
      ]
    },
    {
      "cell_type": "code",
      "execution_count": null,
      "metadata": {
        "id": "virh73xA7lnU",
        "colab": {
          "base_uri": "https://localhost:8080/"
        },
        "outputId": "6c3dc098-5b0d-4218-eac1-f5a5de3bffc4"
      },
      "outputs": [
        {
          "output_type": "execute_result",
          "data": {
            "text/plain": [
              "array([[[ 15.,  97.,  59., ...,   1.,  74.,   2.],\n",
              "        [ 19.,  28.,  80., ...,  87.,  53.,  42.],\n",
              "        [ 14.,  35.,  83., ...,  75.,   2.,  56.],\n",
              "        ...,\n",
              "        [ 68.,  84.,  99., ...,  11.,  26.,  55.],\n",
              "        [ 27.,  13.,  86., ...,  31.,  80.,  37.],\n",
              "        [ 74.,  22.,   8., ...,  65.,  25.,  52.]],\n",
              "\n",
              "       [[ 30., 194., 118., ...,   2., 148.,   4.],\n",
              "        [ 38.,  56., 160., ..., 174., 106.,  84.],\n",
              "        [ 28.,  70., 166., ..., 150.,   4., 112.],\n",
              "        ...,\n",
              "        [136., 168., 198., ...,  22.,  52., 110.],\n",
              "        [ 54.,  26., 172., ...,  62., 160.,  74.],\n",
              "        [148.,  44.,  16., ..., 130.,  50., 104.]],\n",
              "\n",
              "       [[ 45., 291., 177., ...,   3., 222.,   6.],\n",
              "        [ 57.,  84., 240., ..., 261., 159., 126.],\n",
              "        [ 42., 105., 249., ..., 225.,   6., 168.],\n",
              "        ...,\n",
              "        [204., 252., 297., ...,  33.,  78., 165.],\n",
              "        [ 81.,  39., 258., ...,  93., 240., 111.],\n",
              "        [222.,  66.,  24., ..., 195.,  75., 156.]],\n",
              "\n",
              "       ...,\n",
              "\n",
              "       [[120., 776., 472., ...,   8., 592.,  16.],\n",
              "        [152., 224., 640., ..., 696., 424., 336.],\n",
              "        [112., 280., 664., ..., 600.,  16., 448.],\n",
              "        ...,\n",
              "        [544., 672., 792., ...,  88., 208., 440.],\n",
              "        [216., 104., 688., ..., 248., 640., 296.],\n",
              "        [592., 176.,  64., ..., 520., 200., 416.]],\n",
              "\n",
              "       [[135., 873., 531., ...,   9., 666.,  18.],\n",
              "        [171., 252., 720., ..., 783., 477., 378.],\n",
              "        [126., 315., 747., ..., 675.,  18., 504.],\n",
              "        ...,\n",
              "        [612., 756., 891., ...,  99., 234., 495.],\n",
              "        [243., 117., 774., ..., 279., 720., 333.],\n",
              "        [666., 198.,  72., ..., 585., 225., 468.]],\n",
              "\n",
              "       [[150., 970., 590., ...,  10., 740.,  20.],\n",
              "        [190., 280., 800., ..., 870., 530., 420.],\n",
              "        [140., 350., 830., ..., 750.,  20., 560.],\n",
              "        ...,\n",
              "        [680., 840., 990., ..., 110., 260., 550.],\n",
              "        [270., 130., 860., ..., 310., 800., 370.],\n",
              "        [740., 220.,  80., ..., 650., 250., 520.]]])"
            ]
          },
          "metadata": {},
          "execution_count": 34
        }
      ],
      "source": [
        "np.linspace(A, A*10, 10)"
      ]
    },
    {
      "cell_type": "markdown",
      "metadata": {
        "id": "MR3kcGM47lnU"
      },
      "source": [
        "# Задание 2.7 (2 балла)\n",
        "\n",
        "Создайте новый массив, такой же размерности, как и `A`, в котором сначала сгруппированы четные столбцы `A`, потом  нечетные. Используйте [np.concat()](https://numpy.org/doc/stable/reference/generated/numpy.concatenate.html) "
      ]
    },
    {
      "cell_type": "code",
      "execution_count": null,
      "metadata": {
        "id": "JZ8fpML57lnU",
        "colab": {
          "base_uri": "https://localhost:8080/"
        },
        "outputId": "10ac300d-023f-4036-e983-7c0267307560"
      },
      "outputs": [
        {
          "output_type": "execute_result",
          "data": {
            "text/plain": [
              "array([[15, 59, 40, ..., 78,  1,  2],\n",
              "       [19, 80, 77, ..., 75, 87, 42],\n",
              "       [14, 83, 31, ...,  0, 75, 56],\n",
              "       ...,\n",
              "       [68, 99, 35, ..., 40, 11, 55],\n",
              "       [27, 86, 19, ..., 35, 31, 37],\n",
              "       [74,  8, 90, ..., 63, 65, 52]])"
            ]
          },
          "metadata": {},
          "execution_count": 35
        }
      ],
      "source": [
        "np.concatenate((A[:, ::2], A[:, 1::2]), axis=1)"
      ]
    },
    {
      "cell_type": "markdown",
      "metadata": {
        "id": "d70ANRqz7lnU"
      },
      "source": [
        "# Задание 2.8 (2 балла)\n",
        "\n",
        "Посчитайте количество строк массива `A`, в который все элементы больше 5. Используйте [np.all()](https://numpy.org/doc/stable/reference/generated/numpy.all.html) "
      ]
    },
    {
      "cell_type": "code",
      "execution_count": null,
      "metadata": {
        "id": "uOCEelRe7lnU",
        "colab": {
          "base_uri": "https://localhost:8080/"
        },
        "outputId": "b1121119-6210-44b3-a0f5-1b24cdf218a2"
      },
      "outputs": [
        {
          "output_type": "execute_result",
          "data": {
            "text/plain": [
              "12"
            ]
          },
          "metadata": {},
          "execution_count": 36
        }
      ],
      "source": [
        "np.sum(np.all(A>5, axis=1))"
      ]
    },
    {
      "cell_type": "markdown",
      "metadata": {
        "id": "Tc7GPBHb7lnU"
      },
      "source": [
        "# Задание 2.9 (2 балла)\n",
        "\n",
        "Поделите массив `A` горизонтально на 10 частей и создайте новый массив размерности $20 \\times 50$, который состоит из средних этих частей. Используйте [np.split()](https://numpy.org/doc/stable/reference/generated/numpy.split.html)"
      ]
    },
    {
      "cell_type": "code",
      "execution_count": null,
      "metadata": {
        "id": "CSNPyXAL7lnV",
        "colab": {
          "base_uri": "https://localhost:8080/"
        },
        "outputId": "69f88445-ccc0-4e88-c8dd-a39d266a91c0"
      },
      "outputs": [
        {
          "output_type": "execute_result",
          "data": {
            "text/plain": [
              "array([[43.3, 49.1, 52.8, 51.3, 62.9, 52.6, 51.4, 50.4, 57.2, 57.5, 53.1,\n",
              "        45.7, 45.1, 40.5, 47.9, 38.9, 58.9, 37. , 62. , 49.5, 35.2, 45.7,\n",
              "        55.5, 47. , 41. , 37.8, 42.6, 44.5, 56.8, 48.9, 53.2, 49.7, 50.8,\n",
              "        41.9, 63.7, 41.2, 52.1, 49.2, 48. , 57.5, 30.6, 60.7, 43. , 53.7,\n",
              "        59.2, 51.4, 59.5, 36.7, 58.2, 37.1],\n",
              "       [51.2, 58.7, 51.5, 47.3, 50. , 33.9, 62.1, 53.7, 43.7, 37. , 66.6,\n",
              "        46.5, 57. , 56.6, 50.6, 55.4, 49.1, 60.9, 58.2, 42.8, 50.4, 53.3,\n",
              "        58.1, 61.6, 46.5, 45.3, 43.7, 41.9, 47.9, 48.8, 47. , 46. , 32.8,\n",
              "        50.5, 69.7, 39.3, 49.6, 45.8, 58.6, 45.2, 48.8, 49.8, 40.2, 59.4,\n",
              "        54.8, 49.9, 38.7, 50.9, 41. , 37.2],\n",
              "       [33. , 63.8, 56.7, 47.8, 45.9, 39.9, 42.9, 63.8, 49. , 54.4, 41.7,\n",
              "        57. , 32.9, 54.7, 51.8, 49.3, 42.8, 53.7, 39.2, 39.4, 35. , 68.6,\n",
              "        56.2, 55.6, 53.4, 55.9, 45.5, 46.7, 58.5, 32.5, 45.6, 43.7, 49.8,\n",
              "        44.6, 65.8, 48.2, 46.8, 51.5, 55. , 35.9, 41.4, 48.6, 42.6, 38.1,\n",
              "        27.4, 49.3, 37.5, 58.6, 40.1, 50.9],\n",
              "       [45.6, 32.6, 33.5, 45.2, 51.1, 52.5, 59. , 53.8, 53.1, 40.6, 53.9,\n",
              "        54.8, 55. , 43.6, 48.8, 49.7, 58.4, 50.7, 57.4, 45.3, 43. , 38.9,\n",
              "        55.9, 60.6, 42.2, 62.1, 56.7, 57.2, 60.7, 62.9, 57. , 66.6, 50.9,\n",
              "        48.9, 39.7, 61.7, 51.1, 44.9, 65.7, 43.5, 56.6, 55.1, 59.7, 43. ,\n",
              "        53. , 46.7, 42.4, 56.5, 48.6, 65.3],\n",
              "       [48.4, 47.3, 50.9, 55.1, 65.6, 65. , 57.8, 60.2, 41.5, 51.1, 45. ,\n",
              "        55.3, 41.1, 39.8, 56.1, 59.9, 50.1, 48.6, 49.6, 27.8, 48.8, 42. ,\n",
              "        43. , 54.9, 53.7, 33.2, 43.5, 48. , 51.1, 61.7, 62.2, 58.5, 38.4,\n",
              "        50.2, 51.5, 58.6, 65. , 48.3, 45.3, 36.7, 29.1, 51.8, 48.4, 45. ,\n",
              "        55.4, 57.6, 58.8, 38.5, 39.4, 52.7],\n",
              "       [55.5, 66.1, 60.5, 48.2, 54.8, 44.7, 56.2, 43.5, 44.9, 50.6, 42.9,\n",
              "        43.5, 46.6, 53. , 51.1, 32.1, 36.1, 44.3, 47. , 48.2, 51.4, 33.2,\n",
              "        43.7, 67.5, 57.2, 58.1, 45.8, 54.1, 46.6, 44.3, 67.4, 61.7, 35.6,\n",
              "        44.9, 67.7, 43.4, 46. , 30.8, 45.9, 41.2, 54.3, 50.8, 38.9, 59.2,\n",
              "        61.6, 60. , 37.5, 58.1, 56.5, 55.6],\n",
              "       [54.6, 56.4, 55.6, 57.9, 35.2, 41.6, 47.5, 45.3, 68.4, 55.6, 53.3,\n",
              "        44.7, 49. , 50.5, 36.9, 51.3, 53.9, 48.5, 58. , 53.8, 64.5, 42.6,\n",
              "        27.8, 41.8, 61. , 62.8, 52.6, 36.7, 51.2, 48.7, 51.6, 26.3, 50.6,\n",
              "        44.9, 54.9, 41. , 31.6, 57.1, 55.9, 52.1, 40.7, 58.8, 49. , 51.1,\n",
              "        35.9, 58.1, 47.8, 52.7, 29.2, 41.9],\n",
              "       [49.6, 51.6, 41.8, 43.3, 39.4, 63.5, 37.1, 43.3, 50.4, 55.5, 35. ,\n",
              "        48.7, 49.2, 44.9, 59.2, 63.6, 50.7, 47.1, 55.5, 53.2, 35.9, 45.1,\n",
              "        36.1, 30.8, 51.8, 55.4, 38.2, 52.5, 50. , 45.8, 51.1, 61.1, 41.6,\n",
              "        56.5, 41.5, 39.4, 37.1, 48.2, 49.1, 44.1, 44.4, 53.7, 64.9, 53.1,\n",
              "        55.3, 35.2, 73.7, 34.8, 63. , 38.8],\n",
              "       [38.9, 46.1, 45.9, 44.1, 62.2, 39.3, 48. , 46.3, 36.3, 60.6, 62.3,\n",
              "        45.7, 52.5, 44.6, 43.2, 51.3, 61.2, 42.6, 47.1, 59.4, 40. , 41.2,\n",
              "        38.4, 50.6, 43.4, 57.7, 57.2, 27.4, 56.8, 41. , 48.6, 61.6, 46.7,\n",
              "        47.7, 54.2, 45.1, 54.3, 48.7, 49.3, 59.5, 64.8, 40.2, 29.7, 56.1,\n",
              "        58.4, 64.9, 58.9, 44.6, 57. , 60.6],\n",
              "       [43.8, 56.9, 51.4, 53.2, 57.4, 54.1, 41.2, 36.9, 43.1, 46.2, 64.8,\n",
              "        41.8, 57.8, 36.7, 46.9, 55.4, 49.1, 32.6, 43.9, 47. , 57.1, 42.9,\n",
              "        57.7, 42.6, 42.9, 41.2, 46.7, 44.5, 45.2, 35.5, 47.1, 59.8, 58.6,\n",
              "        61.5, 44.1, 52.9, 59.6, 54.7, 67.1, 35.6, 54.7, 47. , 47.8, 64.7,\n",
              "        52.9, 59.2, 49.6, 48. , 68.2, 41.1],\n",
              "       [56.1, 58.5, 49.2, 43.7, 42.1, 51. , 51.9, 31.9, 48.4, 45.4, 47.8,\n",
              "        37.8, 70.9, 70.1, 40.7, 40.7, 60.6, 51.8, 41.5, 41.4, 44.5, 51.1,\n",
              "        46.6, 42.9, 30. , 64.8, 53.1, 48.2, 44.1, 58.5, 40.6, 47.9, 37.2,\n",
              "        53.1, 41. , 63.7, 45.9, 51.9, 51.6, 65.6, 43.5, 58.6, 54.7, 43.6,\n",
              "        42.9, 57.5, 38.8, 46.1, 47.4, 54. ],\n",
              "       [36.2, 47.4, 60.8, 50.8, 57.9, 49. , 52.8, 56.8, 34.4, 51. , 59.1,\n",
              "        44.5, 52.5, 54.8, 39.4, 64.2, 51.1, 61.2, 44.3, 43.8, 57.2, 56. ,\n",
              "        55.3, 37. , 52.4, 61.4, 59.2, 48. , 50.5, 58.5, 48.8, 51.7, 45.6,\n",
              "        36.7, 38.8, 50.8, 48.6, 45.1, 55.7, 45.7, 51.1, 52. , 45.3, 51.3,\n",
              "        44.1, 42.4, 58.6, 41.4, 49.3, 54.5],\n",
              "       [52.8, 48.2, 55.8, 40.7, 51.3, 50.2, 38. , 38.9, 50.8, 57.1, 50.1,\n",
              "        46.3, 32.3, 61.1, 62.1, 45.1, 31.3, 48.5, 40.6, 63.2, 57.1, 44.2,\n",
              "        45.1, 63.3, 51.8, 54.2, 45.8, 52.6, 50.4, 47.1, 46.8, 39.9, 32. ,\n",
              "        46.1, 43.2, 47.4, 61. , 49.1, 57.8, 54.6, 51.3, 38.7, 51.7, 64.8,\n",
              "        59. , 42.1, 33.5, 61.9, 33. , 40.1],\n",
              "       [38.1, 45. , 49.5, 53. , 45.7, 41.5, 41.8, 47.7, 52.4, 45.8, 46.3,\n",
              "        50.4, 47.8, 58. , 40.5, 49. , 36. , 54.8, 41.9, 44.2, 52.1, 64.6,\n",
              "        75.9, 61.3, 39.1, 51. , 53.3, 39.5, 48.6, 36.1, 54. , 49.9, 58.6,\n",
              "        63.8, 34.8, 47. , 55.4, 49.7, 45. , 36.8, 48.5, 57.7, 58.3, 45.7,\n",
              "        56.7, 62.5, 48.6, 52.3, 57.7, 50.6],\n",
              "       [62.2, 64.3, 52.6, 39.4, 49.3, 60.2, 52.9, 54.7, 61.2, 36.4, 65.3,\n",
              "        61.6, 47.6, 66.5, 65.3, 37.8, 40. , 53. , 52.8, 56.3, 66.2, 54.2,\n",
              "        55.3, 61.5, 54.8, 52.8, 55.4, 41.7, 43.5, 62.6, 54.2, 36.4, 42.4,\n",
              "        55.7, 50.6, 47.9, 67.8, 43. , 36.9, 52.5, 48.6, 60.6, 46.5, 47.8,\n",
              "        69. , 48.1, 50.8, 40.5, 58.6, 55.1],\n",
              "       [49.7, 63.6, 50.8, 68.2, 55.7, 45.5, 47. , 63.4, 52.6, 39.7, 54.4,\n",
              "        57.2, 32.1, 40.8, 55.6, 58.6, 52.9, 48.5, 38. , 50.9, 61.8, 51.5,\n",
              "        35.2, 46.5, 46.7, 50.1, 45.3, 48.1, 49.8, 40.3, 32.8, 57.9, 45.8,\n",
              "        44.2, 57.5, 48.8, 52.5, 67.3, 42.2, 64.9, 64.5, 63.5, 64.1, 54.1,\n",
              "        39.5, 53.9, 46.5, 45.3, 44.9, 57.5],\n",
              "       [31.1, 51.5, 48.4, 57.4, 43.5, 61.3, 58.1, 33.6, 54.1, 47.7, 38.8,\n",
              "        54.3, 44.7, 41.6, 47.2, 54.3, 43.6, 48.5, 55.6, 55.7, 48.4, 38.7,\n",
              "        37.5, 46.2, 42.6, 56.6, 52.5, 44.2, 45. , 57.5, 38.5, 49.4, 64.4,\n",
              "        37.2, 53.1, 46.2, 54.5, 52.6, 62.1, 41.4, 48.9, 44.9, 52.8, 41.6,\n",
              "        48.6, 53.8, 63.7, 46.9, 48.7, 47.7],\n",
              "       [52.3, 58.5, 56.1, 42.8, 42.6, 71.6, 37.6, 55.9, 55.8, 39.5, 48.4,\n",
              "        49.2, 65.8, 59.5, 50.3, 53.6, 55.9, 60.8, 53.3, 52.5, 48.9, 50. ,\n",
              "        41.1, 32.6, 46.9, 58.2, 32.8, 52.5, 66.2, 50.5, 57.8, 43.6, 51.2,\n",
              "        47.7, 44.2, 44.8, 53.5, 37.6, 62.4, 82.9, 43. , 64.6, 50.4, 46.5,\n",
              "        54.7, 50.4, 56.8, 39.9, 37.4, 47.3],\n",
              "       [48.7, 40. , 69.2, 57.6, 43.3, 70.3, 54.2, 46. , 31.5, 50.3, 51.1,\n",
              "        55.4, 60.4, 45.3, 40.4, 57.5, 55.7, 45.7, 38.9, 52.3, 67.1, 54.3,\n",
              "        68.5, 66.6, 47. , 61.7, 62.8, 51.7, 59.6, 54.6, 45.4, 42.3, 51.6,\n",
              "        62.2, 59.1, 50.8, 56.9, 45.6, 55.5, 43.9, 58.9, 54.2, 50.6, 54.8,\n",
              "        34.5, 61.2, 35.3, 42.5, 39.6, 60.9],\n",
              "       [49.1, 39.9, 44.9, 55.9, 66.7, 53.7, 35.3, 40.7, 46.5, 72.9, 56.5,\n",
              "        61.8, 47.5, 57.3, 36.3, 51.6, 64.9, 62.1, 56.3, 43.8, 44.9, 34.3,\n",
              "        58.8, 42.2, 42.7, 41.6, 54.6, 42.1, 50.7, 50.4, 55. , 53.1, 51.5,\n",
              "        58.4, 63.7, 59.2, 58.8, 50.9, 39.5, 52.5, 54.3, 42.1, 59.1, 37.9,\n",
              "        43.2, 46.3, 58.4, 57.3, 60.4, 62. ]])"
            ]
          },
          "metadata": {},
          "execution_count": 37
        }
      ],
      "source": [
        "np.sum(np.split(A, 10), axis=0) / 10"
      ]
    },
    {
      "cell_type": "markdown",
      "metadata": {
        "id": "AyNamXTg7lnV"
      },
      "source": [
        "# Задание 2.10 (4 балла)\n",
        "\n",
        "\"Разверните\" массив `A` в одномерный массив. Оставьте в нём только уникальные элементы в том же порядке, в котором они встречаются в массиве. Используйте [np.unique()](https://numpy.org/doc/stable/reference/generated/numpy.unique.html)"
      ]
    },
    {
      "cell_type": "code",
      "execution_count": null,
      "metadata": {
        "id": "DE5fsvq27lnV",
        "colab": {
          "base_uri": "https://localhost:8080/"
        },
        "outputId": "89582dc5-9b4b-4688-974c-e9f399d96583"
      },
      "outputs": [
        {
          "output_type": "execute_result",
          "data": {
            "text/plain": [
              "array([15, 97, 59, 28, 40, 92, 78, 90, 38, 49, 71,  5, 85, 58, 81, 36, 77,\n",
              "       21,  2, 23, 98, 27,  9, 46, 45, 50, 47, 30, 84, 32, 39, 73, 57, 70,\n",
              "       87,  1, 86, 99, 74, 19, 80, 34, 13, 82,  4, 67, 35, 20, 11, 52, 56,\n",
              "       66, 33, 26, 95, 41, 12, 17, 22, 75, 53, 42, 14, 83, 69, 31, 94,  7,\n",
              "       43, 68, 62, 16, 18, 76, 24,  0, 63,  3, 96, 44, 37, 65, 60, 93, 54,\n",
              "       64, 61, 51, 55, 72,  8, 88, 48, 79, 10, 89, 91, 25, 29,  6])"
            ]
          },
          "metadata": {},
          "execution_count": 38
        }
      ],
      "source": [
        "A.flatten()[np.sort(np.unique(A.flatten(), return_index=True)[1])]"
      ]
    },
    {
      "cell_type": "markdown",
      "metadata": {
        "id": "VPeOXvms7lnV"
      },
      "source": [
        "# Задание 2.11 (3 балла)\n",
        "\n",
        "Создайте одномерный массив размерности $200$, в котором каждый элемент - евклидово расстояние между соответствующей строкой `A` и \"средней\" строкой `A`"
      ]
    },
    {
      "cell_type": "code",
      "execution_count": null,
      "metadata": {
        "id": "jfLCnwmB7lnV",
        "colab": {
          "base_uri": "https://localhost:8080/"
        },
        "outputId": "ac3736dd-78d7-4593-ee05-c33e0dffcbeb"
      },
      "outputs": [
        {
          "output_type": "execute_result",
          "data": {
            "text/plain": [
              "array([424.79169013, 403.97756745, 427.31346223, 423.56911479,\n",
              "       407.94438346, 425.65833717, 403.72277617, 399.33304396,\n",
              "       440.5995404 , 404.93949548, 406.76961538, 398.35860729,\n",
              "       404.800667  , 404.93332167, 414.36210613, 403.54275486,\n",
              "       395.81353565, 394.87288461, 393.08064694, 413.18019677,\n",
              "       425.82845725, 423.55297189, 424.54747084, 402.1780638 ,\n",
              "       408.23987434, 411.19483825, 421.4763991 , 393.33038911,\n",
              "       402.9204388 , 410.53718467, 403.15996205, 402.87193375,\n",
              "       406.676032  , 397.97933992, 421.54629639, 403.29470614,\n",
              "       396.78482204, 417.1834129 , 393.89975882, 411.33416464,\n",
              "       427.7639536 , 419.75733466, 415.21844251, 400.39589783,\n",
              "       414.36987704, 424.59848681, 383.47805674, 402.90430005,\n",
              "       412.64316304, 419.98523188])"
            ]
          },
          "metadata": {},
          "execution_count": 39
        }
      ],
      "source": [
        "np.linalg.norm(A - np.mean(A, axis=0), axis=0)"
      ]
    },
    {
      "cell_type": "markdown",
      "metadata": {
        "id": "UiXesdSz7lnW"
      },
      "source": [
        "# Задание 2.12 (2 балла)\n",
        "\n",
        "Создайте новый массив, который состоит из элементов `A`, измененных по следующим правилам:\n",
        "- если элемент меньше $50$, то он умножается на $2$\n",
        "- в противном случае он умножается на $3$\n",
        "\n",
        "Используйте [np.where()](https://numpy.org/doc/stable/reference/generated/numpy.where.html)"
      ]
    },
    {
      "cell_type": "code",
      "execution_count": null,
      "metadata": {
        "id": "QUPXTAiU7lnW",
        "colab": {
          "base_uri": "https://localhost:8080/"
        },
        "outputId": "612355f7-d041-4e51-dc40-cdd68e9906fd"
      },
      "outputs": [
        {
          "output_type": "execute_result",
          "data": {
            "text/plain": [
              "array([[ 30, 291, 177, ...,   2, 222,   4],\n",
              "       [ 38,  56, 240, ..., 261, 159,  84],\n",
              "       [ 28,  70, 249, ..., 225,   4, 168],\n",
              "       ...,\n",
              "       [204, 252, 297, ...,  22,  52, 165],\n",
              "       [ 54,  26, 258, ...,  62, 240,  74],\n",
              "       [222,  44,  16, ..., 195,  50, 156]])"
            ]
          },
          "metadata": {},
          "execution_count": 40
        }
      ],
      "source": [
        "np.where(A < 50, A*2, A*3)"
      ]
    },
    {
      "cell_type": "markdown",
      "metadata": {
        "id": "QrxiKH2O7lnW"
      },
      "source": [
        "# Задание 2.13 (7 баллов)\n",
        "\n",
        "Разверните массив `A` в одномерный массив. Создайте три новых массива, подсчитав скользящие средние по окнам $3$, $5$, $10$. Найдите сумму этих массивов, выровнив из размерности нулями справа\n",
        "\n",
        "*Tip: реализуйте функцию, которая считает скользящее среднее. Используйте [np.cumsum()](https://numpy.org/doc/stable/reference/generated/numpy.cumsum.html) или [np.convolve()](https://numpy.org/doc/stable/reference/generated/numpy.convolve.html)*"
      ]
    },
    {
      "cell_type": "code",
      "execution_count": null,
      "metadata": {
        "id": "zMNtZ-6-7lnW",
        "colab": {
          "base_uri": "https://localhost:8080/"
        },
        "outputId": "b3c0d939-2ee4-480d-af3a-91882369a570"
      },
      "outputs": [
        {
          "output_type": "stream",
          "name": "stdout",
          "text": [
            "[165.4        187.43333333 159.83333333 ...  47.33333333   0.\n",
            "   0.        ]\n"
          ]
        }
      ],
      "source": [
        "A_flat = A.flatten()\n",
        "\n",
        "def mean_window(np_array, window_size):\n",
        "    return np.concatenate(\n",
        "                (np.convolve(\n",
        "                        np_array, \n",
        "                        np.ones(window_size)*(1/window_size)\n",
        "                      )[window_size - 1:1 - window_size], \n",
        "                 np.zeros(window_size - 1)), \n",
        "                 axis=0)\n",
        "\n",
        "B = np.array([mean_window(A_flat, 3), mean_window(A_flat, 5), mean_window(A_flat, 10)])\n",
        "print(np.sum(B, axis=0))"
      ]
    },
    {
      "cell_type": "markdown",
      "metadata": {
        "id": "q8jGz9CL7lnW"
      },
      "source": [
        "# Задание 2.14 (8 баллов)\n",
        "\n",
        "Постройте график функции $$f(x) = (5  \\sin(2x) - \\cos^2(x) - 1 + |x^3| - x^2) / (x^2 + 1)$$  \n",
        "\n",
        "и производной от этой функции.  Найдите минимум с помощью `scipy` и обозначьте его на графике. На этой же оси постройте графики скользящего среднего этой функции с окном $1$, $2$, $5$."
      ]
    },
    {
      "cell_type": "code",
      "execution_count": null,
      "metadata": {
        "id": "GHznxwUh7lnW",
        "colab": {
          "base_uri": "https://localhost:8080/",
          "height": 268
        },
        "outputId": "c708dceb-cd7f-44e1-c5d0-bf1423a59cca"
      },
      "outputs": [
        {
          "output_type": "display_data",
          "data": {
            "text/plain": [
              "<Figure size 432x288 with 1 Axes>"
            ],
            "image/png": "[encoded data removed]"
          },
          "metadata": {}
        }
      ],
      "source": [
        "import matplotlib.pyplot as plt\n",
        "from scipy.optimize import minimize\n",
        "\n",
        "def given_func(x):\n",
        "    return (5 * np.sin(2 * x) - np.power(np.cos(x), 2) - 1 + np.abs(np.power(x, 3)) - np.power(x, 2)) / (np.power(x, 2) + 1)\n",
        "\n",
        "min_x = minimize(given_func, 0.0, tol=1e-6).x\n",
        "plt.scatter(min_x, given_func(min_x), color='orange', s=40, marker='o')\n",
        "\n",
        "X = np.arange(-10, 10.01, 0.01)\n",
        "plt.plot(X, given_func(X))\n",
        "plt.plot(X[:-1], np.diff(given_func(X))*100)\n",
        "\n",
        "X_low_res = np.arange(-10, 10.5, 0.5)\n",
        "values = given_func(X_low_res)\n",
        "values_2 = mean_window(values, 2)\n",
        "values_5 = mean_window(values, 5)\n",
        "\n",
        "plt.plot(X_low_res, given_func(X_low_res))\n",
        "plt.plot(X_low_res, np.append(values_2[-1], values_2[:-1]))\n",
        "plt.plot(X_low_res, np.append(values_5[-2:], values_5[:-2]))\n",
        "\n",
        "plt.show()"
      ]
    },
    {
      "cell_type": "markdown",
      "metadata": {
        "id": "GXeP3Djd7lnW"
      },
      "source": [
        "# Задание 2.15 (10 баллов)\n",
        "\n",
        "Есть следующий алгоритм семплинирования, на вход функции подается вектор из целых положительных чисел и число семплов."
      ]
    },
    {
      "cell_type": "code",
      "execution_count": null,
      "metadata": {
        "id": "i6to6UhL7lnW",
        "outputId": "1a3880af-f836-46a0-ae25-a850b251584a",
        "colab": {
          "base_uri": "https://localhost:8080/"
        }
      },
      "outputs": [
        {
          "output_type": "execute_result",
          "data": {
            "text/plain": [
              "[0, 0, 0, 4, 0]"
            ]
          },
          "metadata": {},
          "execution_count": 47
        }
      ],
      "source": [
        "from typing import List \n",
        "\n",
        "def sample(x: List[int], c: int) -> List[int]:\n",
        "    assert len(x) > 0\n",
        "    \n",
        "    s = np.sum(x)\n",
        "    res = []\n",
        "    for _ in range(c):\n",
        "        val = s * np.random.random()\n",
        "        cur, idx = 0, 0        \n",
        "        while cur + x[idx] <= val:\n",
        "            cur += x[idx]\n",
        "            idx += 1\n",
        "            \n",
        "        res.append(idx)\n",
        "    return res\n",
        "\n",
        "            \n",
        "sample([50, 3, 1, 7, 20], 5)   "
      ]
    },
    {
      "cell_type": "markdown",
      "metadata": {
        "id": "vJ6lBDJ-7lnX"
      },
      "source": [
        "Реализуйте данный алгоритм более оптимальным способом на массивах `numpy`, без использования циклов. Проверьте корректность и идентичность алгоритмов семплирования с помощью статистических тестов."
      ]
    },
    {
      "cell_type": "code",
      "execution_count": null,
      "metadata": {
        "id": "EBDppILr7lnX",
        "colab": {
          "base_uri": "https://localhost:8080/"
        },
        "outputId": "5066d22c-d399-4426-caf2-b8120a9edc8a"
      },
      "outputs": [
        {
          "output_type": "execute_result",
          "data": {
            "text/plain": [
              "KstestResult(statistic=0.021, pvalue=0.9802627322900355)"
            ]
          },
          "metadata": {},
          "execution_count": 48
        }
      ],
      "source": [
        "from scipy import stats\n",
        "\n",
        "def sample_numpy(x: List[int], c: int) -> List[int]:\n",
        "    assert len(x) > 0\n",
        "\n",
        "    return np.searchsorted(np.cumsum(x), np.random.rand(c) * np.sum(x), side='right')\n",
        "\n",
        "stats.kstest(sample_numpy([50, 3, 1, 7, 20], 1000), sample([50, 3, 1, 7, 20], 1000))"
      ]
    },
    {
      "cell_type": "markdown",
      "metadata": {
        "id": "etMJm1Eb7lnX"
      },
      "source": [
        "# Задание 2.16 (5 баллов)\n",
        "\n",
        "Есть следующий алгоритм \"случайного блуждания\""
      ]
    },
    {
      "cell_type": "code",
      "execution_count": null,
      "metadata": {
        "id": "IAAfmeIV7lnX",
        "outputId": "14732426-af61-4143-cfb9-026257fadf9c",
        "colab": {
          "base_uri": "https://localhost:8080/"
        }
      },
      "outputs": [
        {
          "output_type": "execute_result",
          "data": {
            "text/plain": [
              "1866"
            ]
          },
          "metadata": {},
          "execution_count": 49
        }
      ],
      "source": [
        "import random \n",
        "\n",
        "def walk(n: int):\n",
        "    cur_position = 0\n",
        "    for i in range(n):\n",
        "        cur_position += random.choice([-3, -1, 0, 2, 3])\n",
        "\n",
        "    return cur_position\n",
        "\n",
        "walk(10_000)"
      ]
    },
    {
      "cell_type": "markdown",
      "metadata": {
        "id": "jQQws-W37lnY"
      },
      "source": [
        "Реализуйте более эффективную версию с помощью `numpy`, сравните производительность (используя, например, magic `timeit`). Воспользовавшись [kdeplot()](https://seaborn.pydata.org/generated/seaborn.kdeplot.html) или аналогами, постройте график распределения значений `walk(10_000)` на каком-то разумном числе запусков. "
      ]
    },
    {
      "cell_type": "code",
      "execution_count": null,
      "metadata": {
        "id": "sJhFNPod7lnY",
        "colab": {
          "base_uri": "https://localhost:8080/",
          "height": 320
        },
        "outputId": "c80a699a-709e-4245-c98f-43a3287e25f9"
      },
      "outputs": [
        {
          "output_type": "stream",
          "name": "stdout",
          "text": [
            "9.4 ms ± 122 µs per loop (mean ± std. dev. of 7 runs, 100 loops each)\n",
            "227 µs ± 4.21 µs per loop (mean ± std. dev. of 7 runs, 1000 loops each)\n"
          ]
        },
        {
          "output_type": "execute_result",
          "data": {
            "text/plain": [
              "<matplotlib.axes._subplots.AxesSubplot at 0x7f1db219d750>"
            ]
          },
          "metadata": {},
          "execution_count": 50
        },
        {
          "output_type": "display_data",
          "data": {
            "text/plain": [
              "<Figure size 432x288 with 1 Axes>"
            ],
            "image/png": "[encoded data removed]"
          },
          "metadata": {}
        }
      ],
      "source": [
        "import timeit\n",
        "import seaborn\n",
        "   \n",
        "def walk_numpy(n: int):\n",
        "    return np.sum(np.random.choice([-3, -1, 0, 2, 3], size=n))\n",
        "\n",
        "%timeit walk(10000)\n",
        "%timeit walk_numpy(10000)\n",
        "\n",
        "n = 10000\n",
        "data_walk = np.zeros((n, 2))\n",
        "for i in range(n):\n",
        "    data_walk[i, 0] = walk_numpy(10000)\n",
        "    data_walk[i, 1] = walk(10000)\n",
        "seaborn.kdeplot(data=data_walk)"
      ]
    },
    {
      "cell_type": "markdown",
      "metadata": {
        "id": "RGY1Ap8B7lnY"
      },
      "source": [
        "# Задание 2.17 (5 баллов)\n",
        "\n",
        "Имеется функция, которая проделывает достаточно странные манипуляции с массивом `numpy`"
      ]
    },
    {
      "cell_type": "code",
      "execution_count": 8,
      "metadata": {
        "id": "T6vEXaq17lnY",
        "outputId": "c2b1644c-25fb-4e76-fe52-8494f138d105",
        "colab": {
          "base_uri": "https://localhost:8080/"
        }
      },
      "outputs": [
        {
          "output_type": "execute_result",
          "data": {
            "text/plain": [
              "0.3768146154274872"
            ]
          },
          "metadata": {},
          "execution_count": 8
        }
      ],
      "source": [
        "import numpy.typing as npt\n",
        "\n",
        "def strange_conv(a: npt.NDArray[np.float64]) -> np.float64:\n",
        "    x = a.shape[0]\n",
        "    y = a.shape[1]\n",
        "\n",
        "    t = 1.\n",
        "    for y in range(y - 5):\n",
        "        for x in range(x - 3):\n",
        "            c = 1.5 * a[y+1, x+2] - a[y+5, x+3] * a[y, x] + 0.2 * a[y+4, x]\n",
        "            t = 0.2 * t + 0.8 * c\n",
        "\n",
        "    return t\n",
        "\n",
        "\n",
        "a = np.random.random((10000, 10000))\n",
        "strange_conv(a)\n"
      ]
    },
    {
      "cell_type": "markdown",
      "metadata": {
        "id": "_CxuOhD87lnY"
      },
      "source": [
        "Оптимизируйте данную функцию с помощью (2 на выбор):\n",
        "- [Numba](https://numba.pydata.org)\n",
        "- `Cython` (+5 баллов)\n",
        "- [Taichi](https://github.com/taichi-dev/taichi) (+5 баллов)\n",
        "- `Pythran `[[1]](https://pythran.readthedocs.io/en/latest/), [[2]](https://serge-sans-paille.github.io/pythran-stories/pythran-tutorial.html) (+2 балла)\n",
        "\n",
        "Сравните производительность."
      ]
    },
    {
      "cell_type": "code",
      "execution_count": 7,
      "metadata": {
        "id": "O1gUKDeE7lnY",
        "colab": {
          "base_uri": "https://localhost:8080/"
        },
        "outputId": "704fae83-5785-4d4e-84aa-41305cfc359e"
      },
      "outputs": [
        {
          "output_type": "stream",
          "name": "stdout",
          "text": [
            "[Taichi] version 1.3.0, llvm 15.0.4, commit 0f25b95e, linux, python 3.8.16\n",
            "[Taichi] Starting on arch=x64\n"
          ]
        },
        {
          "output_type": "execute_result",
          "data": {
            "text/plain": [
              "0.5924432873725891"
            ]
          },
          "metadata": {},
          "execution_count": 7
        }
      ],
      "source": [
        "import taichi as ti\n",
        "\n",
        "ti.init()\n",
        "\n",
        "@ti.kernel\n",
        "def strange_conv_ti(a: ti.types.ndarray()) -> ti.f64:\n",
        "    x = a.shape[0]\n",
        "    y = a.shape[1]\n",
        "\n",
        "    t = 1.\n",
        "    ti.loop_config(serialize=True) \n",
        "    for j, i in ti.ndrange(x-3, y-5):\n",
        "        c = 1.5 * a[i+1, j+2] - a[i+5, j+3] * a[i, j] + 0.2 * a[i+4, j]\n",
        "        t = 0.2 * t + 0.8 * c\n",
        "\n",
        "    return t"
      ]
    },
    {
      "cell_type": "code",
      "source": [
        "%load_ext cython"
      ],
      "metadata": {
        "colab": {
          "base_uri": "https://localhost:8080/"
        },
        "id": "84upO6KiAzE1",
        "outputId": "5d5452bd-ec42-4f99-8b3e-e5eba3147a4c"
      },
      "execution_count": 12,
      "outputs": [
        {
          "output_type": "stream",
          "name": "stdout",
          "text": [
            "The cython extension is already loaded. To reload it, use:\n",
            "  %reload_ext cython\n"
          ]
        }
      ]
    },
    {
      "cell_type": "code",
      "source": [
        "%%cython\n",
        "\n",
        "cimport cython\n",
        "import numpy as np\n",
        "cimport numpy as np\n",
        "from cython.parallel import prange\n",
        "\n",
        "ctypedef np.double_t cpl_t\n",
        "cpl = np.double\n",
        "\n",
        "@cython.boundscheck(False) # compiler directive\n",
        "@cython.wraparound(False) # compiler directive\n",
        "cdef inline double strange_conv_cy(np.ndarray[cpl_t, ndim=2] a):\n",
        "    cdef double[:, :] a_cython = a\n",
        "\n",
        "    cdef int x = a.shape[0]\n",
        "    cdef int y = a.shape[1]\n",
        "\n",
        "    cdef double t = 1\n",
        "    cdef Py_ssize_t j, i\n",
        "    for i in range(y - 5):\n",
        "        for j in range(x - 3):\n",
        "            c = 1.5 * a_cython[i+1, j+2] - a_cython[i+5, j+3] * a_cython[i, j] + 0.2 * a_cython[i+4, j]\n",
        "            t = 0.2 * t + 0.8 * c\n",
        "\n",
        "    return t\n",
        "\n",
        "def cy_wrapper(a):\n",
        "  return strange_conv_cy(a)"
      ],
      "metadata": {
        "colab": {
          "base_uri": "https://localhost:8080/"
        },
        "id": "05tbWTA57lAA",
        "outputId": "56a83314-7ac6-4b89-f6cc-640b4a244942"
      },
      "execution_count": 23,
      "outputs": [
        {
          "output_type": "stream",
          "name": "stderr",
          "text": [
            "warning: /root/.cache/ipython/cython/_cython_magic_ab52fa90d1d02da455a53c36ed093ca2.pyx:12:35: Buffer unpacking not optimized away.\n",
            "warning: /root/.cache/ipython/cython/_cython_magic_ab52fa90d1d02da455a53c36ed093ca2.pyx:12:35: Buffer unpacking not optimized away.\n"
          ]
        }
      ]
    },
    {
      "cell_type": "code",
      "source": [
        "a = np.random.random((100, 100))\n",
        "\n",
        "print('python')\n",
        "%timeit strange_conv(a)\n",
        "\n",
        "print('taichi')\n",
        "%timeit strange_conv_ti(a)\n",
        "\n",
        "print('cython')\n",
        "%timeit cy_wrapper(a)"
      ],
      "metadata": {
        "colab": {
          "base_uri": "https://localhost:8080/"
        },
        "id": "THoEjYn2ESze",
        "outputId": "a90bdd52-eeb3-45b9-c974-2b61328ad7d7"
      },
      "execution_count": 24,
      "outputs": [
        {
          "output_type": "stream",
          "name": "stdout",
          "text": [
            "python\n",
            "1.18 ms ± 8.72 µs per loop (mean ± std. dev. of 7 runs, 1000 loops each)\n",
            "taichi\n",
            "692 µs ± 25.5 µs per loop (mean ± std. dev. of 7 runs, 1000 loops each)\n",
            "cython\n",
            "349 µs ± 6.19 µs per loop (mean ± std. dev. of 7 runs, 1000 loops each)\n"
          ]
        }
      ]
    }
  ],
  "metadata": {
    "kernelspec": {
      "display_name": "Python 3.10.6 64-bit",
      "language": "python",
      "name": "python3"
    },
    "language_info": {
      "codemirror_mode": {
        "name": "ipython",
        "version": 3
      },
      "file_extension": ".py",
      "mimetype": "text/x-python",
      "name": "python",
      "nbconvert_exporter": "python",
      "pygments_lexer": "ipython3",
      "version": "3.10.6"
    },
    "orig_nbformat": 4,
    "vscode": {
      "interpreter": {
        "hash": "916dbcbb3f70747c44a77c7bcd40155683ae19c65e1c03b4aa3499c5328201f1"
      }
    },
    "colab": {
      "provenance": []
    }
  },
  "nbformat": 4,
  "nbformat_minor": 0
}